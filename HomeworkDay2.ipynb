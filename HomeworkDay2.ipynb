{
 "cells": [
  {
   "cell_type": "code",
   "execution_count": 1,
   "metadata": {},
   "outputs": [
    {
     "name": "stdout",
     "output_type": "stream",
     "text": [
      "[99, 78, 74, 78, 10, 17, 72, 38, 44, 85]\n"
     ]
    }
   ],
   "source": [
    "list = [17,72,38,44,85,99,78,74,78,10] # I define a list\n",
    "list1 =list[5:] + list[:5] #then created list1 and swap the second half with the first half of the list\n",
    "\n",
    "print(list1)# printed out\n"
   ]
  },
  {
   "cell_type": "code",
   "execution_count": 16,
   "metadata": {},
   "outputs": [
    {
     "name": "stdout",
     "output_type": "stream",
     "text": [
      "Please enter a single digit integer: 9\n",
      "an even number: 0\n",
      "an even number: 2\n",
      "an even number: 4\n",
      "an even number: 6\n",
      "an even number: 8\n"
     ]
    }
   ],
   "source": [
    "n = int(input('Please enter a single digit integer: '))\n",
    "start, end = 0, n\n",
    "for n in range(start,end+ 1):\n",
    "    if n % 2==0:\n",
    "        print('an even number:', n) #printed out all the integer numbers from 0 to "
   ]
  },
  {
   "cell_type": "code",
   "execution_count": null,
   "metadata": {},
   "outputs": [],
   "source": []
  },
  {
   "cell_type": "code",
   "execution_count": null,
   "metadata": {},
   "outputs": [],
   "source": []
  },
  {
   "cell_type": "code",
   "execution_count": null,
   "metadata": {},
   "outputs": [],
   "source": []
  }
 ],
 "metadata": {
  "kernelspec": {
   "display_name": "Python 3",
   "language": "python",
   "name": "python3"
  },
  "language_info": {
   "codemirror_mode": {
    "name": "ipython",
    "version": 3
   },
   "file_extension": ".py",
   "mimetype": "text/x-python",
   "name": "python",
   "nbconvert_exporter": "python",
   "pygments_lexer": "ipython3",
   "version": "3.8.5"
  }
 },
 "nbformat": 4,
 "nbformat_minor": 4
}
