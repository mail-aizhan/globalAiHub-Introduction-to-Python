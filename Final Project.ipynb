{
 "cells": [
  {
   "cell_type": "code",
   "execution_count": 12,
   "metadata": {},
   "outputs": [],
   "source": [
    "class Manager():\n",
    "    def __init__(self, name, surname, age):\n",
    "        self.name =name\n",
    "        self.surname =surname\n",
    "        self.age = age\n",
    "        self.language = []\n",
    "        \n",
    "    def nameSur(self):\n",
    "        print(self.name + \"\" + self.surname)\n",
    "        \n",
    "    def ageMan(self):\n",
    "        print('His age is: ' +str(self.age))\n",
    "        \n",
    "    def speakLan():\n",
    "        print(self.name + \"speaks\" + self.language)\n",
    "        for x in self.language:\n",
    "            print(x)\n",
    "        \n",
    "        \n",
    "class Employees(Manager):\n",
    "    def __init__(self, name, surname, age):\n",
    "        super().__init__(name, surname, age)\n",
    "        \n",
    "    def nameSur(self):\n",
    "        super().nameSur()\n",
    "        \n",
    "    def ageMan():\n",
    "        super().ageMan()\n",
    "        \n",
    "    def speakLan():\n",
    "        super().speakLan()\n",
    "    \n"
   ]
  },
  {
   "cell_type": "code",
   "execution_count": 17,
   "metadata": {},
   "outputs": [],
   "source": [
    "employees1 = Employees(\"Aykut\", \"Yılmaz\", 35) \n",
    "employees2 = Employees(\"Ayje\", \"Kerim\", 30)\n",
    "manager1 = Manager(\"Scot\", \"Kevin\", 28 ) \n",
    "manager2 = Manager(\"Sezim\", \"Madil\", 43) \n",
    "\n"
   ]
  },
  {
   "cell_type": "code",
   "execution_count": 18,
   "metadata": {},
   "outputs": [],
   "source": [
    "my_dict = {\"Aykut\" : {\"employee\": employees1, \"language\": \"French\" }, \n",
    "           \n",
    "           \"Ayje\" : {\"employee\": employees2, \"language\": \"Kazakh\" },\n",
    "         \n",
    "           \"Scot\" : {\"manager\": manager1, \"language\": \"Chinese\"},\n",
    "           \n",
    "           \"Sezim\" : {\"manager\": manager2, \"language\": \"German\" }\n",
    "          \n",
    "           } "
   ]
  },
  {
   "cell_type": "code",
   "execution_count": null,
   "metadata": {},
   "outputs": [],
   "source": []
  }
 ],
 "metadata": {
  "kernelspec": {
   "display_name": "Python 3",
   "language": "python",
   "name": "python3"
  },
  "language_info": {
   "codemirror_mode": {
    "name": "ipython",
    "version": 3
   },
   "file_extension": ".py",
   "mimetype": "text/x-python",
   "name": "python",
   "nbconvert_exporter": "python",
   "pygments_lexer": "ipython3",
   "version": "3.8.5"
  }
 },
 "nbformat": 4,
 "nbformat_minor": 4
}
