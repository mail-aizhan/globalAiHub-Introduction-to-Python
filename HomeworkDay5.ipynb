{
 "cells": [
  {
   "cell_type": "code",
   "execution_count": 93,
   "metadata": {},
   "outputs": [],
   "source": [
    "class Animals():\n",
    "    def __init__(self, name, age):\n",
    "        self.name = name\n",
    "        self.age = age \n",
    "\n",
    "    def speak(self):\n",
    "        print(\"I am\", self.name, \"and I am\", self.age, \"years old\")\n",
    "\n",
    "\n",
    "class Dogs(Animals):\n",
    "    def __init__(self, name, age):\n",
    "        self.name = name\n",
    "        self.age = age\n",
    "        self.type = \"dog\"\n",
    "    def wufWuf(self):\n",
    "        print(\"Look! The \" + self.name + \" is barking at you!\")\n",
    "        \n",
    "class Cats(Animals):\n",
    "    def __init__(self, name, age):\n",
    "        self.name = name\n",
    "        self.age = age\n",
    "        \n",
    "    def rollOver(self):\n",
    "        print(self.name + \" is rolling over!\")\n",
    "    "
   ]
  },
  {
   "cell_type": "code",
   "execution_count": 86,
   "metadata": {},
   "outputs": [
    {
     "name": "stdout",
     "output_type": "stream",
     "text": [
      "boncuk is rolling over!\n"
     ]
    }
   ],
   "source": [
    "boncuk = Cats('boncuk', 5)\n",
    "boncuk.rollOver()"
   ]
  },
  {
   "cell_type": "code",
   "execution_count": 94,
   "metadata": {},
   "outputs": [
    {
     "name": "stdout",
     "output_type": "stream",
     "text": [
      "Look! The aktos is barking at you!\n"
     ]
    }
   ],
   "source": [
    "tim =Dogs('aktos', 5)\n",
    "tim.wufWuf()"
   ]
  },
  {
   "cell_type": "code",
   "execution_count": null,
   "metadata": {},
   "outputs": [],
   "source": []
  }
 ],
 "metadata": {
  "kernelspec": {
   "display_name": "Python 3",
   "language": "python",
   "name": "python3"
  },
  "language_info": {
   "codemirror_mode": {
    "name": "ipython",
    "version": 3
   },
   "file_extension": ".py",
   "mimetype": "text/x-python",
   "name": "python",
   "nbconvert_exporter": "python",
   "pygments_lexer": "ipython3",
   "version": "3.8.5"
  }
 },
 "nbformat": 4,
 "nbformat_minor": 4
}
