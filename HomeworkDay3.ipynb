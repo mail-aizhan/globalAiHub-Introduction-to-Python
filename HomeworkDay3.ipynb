{
 "cells": [
  {
   "cell_type": "code",
   "execution_count": 30,
   "metadata": {},
   "outputs": [
    {
     "name": "stdout",
     "output_type": "stream",
     "text": [
      "Enter your username: FGD\n",
      "Enter you password: JHG\n",
      "Try again later ...\n"
     ]
    }
   ],
   "source": [
    "user_name =\"ayjan_01\"\n",
    "user_password = \"secret_code\"\n",
    "\n",
    "user_name = input(\"Enter your username: \")\n",
    "user_password = input(\"Enter you password: \")\n",
    "\n",
    "if user_name == \"ayjan_01\" and user_password== \"secret_code\":\n",
    "    print(\"LOGIN IS SUCCESSFUL...\")\n",
    "else:\n",
    "    print('Try again later ...')"
   ]
  },
  {
   "cell_type": "code",
   "execution_count": 28,
   "metadata": {},
   "outputs": [
    {
     "name": "stdout",
     "output_type": "stream",
     "text": [
      "Enter your username: ayjan_01\n",
      "Enter you password: secret_code\n",
      "Successful\n"
     ]
    }
   ],
   "source": [
    "login= {\n",
    "     'ayjan_01':'secret_code'\n",
    "}\n",
    "user_name = input(\"Enter your username: \")\n",
    "user_password = input(\"Enter you password: \")\n",
    "\n",
    "if user_password in login[user_name]:\n",
    "    print(\"LOGIN IS Successful\")\n",
    "else:\n",
    "    print(\"Try again LATER !!!\")\n"
   ]
  },
  {
   "cell_type": "code",
   "execution_count": null,
   "metadata": {},
   "outputs": [],
   "source": []
  }
 ],
 "metadata": {
  "kernelspec": {
   "display_name": "Python 3",
   "language": "python",
   "name": "python3"
  },
  "language_info": {
   "codemirror_mode": {
    "name": "ipython",
    "version": 3
   },
   "file_extension": ".py",
   "mimetype": "text/x-python",
   "name": "python",
   "nbconvert_exporter": "python",
   "pygments_lexer": "ipython3",
   "version": "3.8.5"
  }
 },
 "nbformat": 4,
 "nbformat_minor": 4
}
